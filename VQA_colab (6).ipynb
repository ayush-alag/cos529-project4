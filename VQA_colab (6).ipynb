{
  "cells": [
    {
      "cell_type": "code",
      "execution_count": null,
      "metadata": {
        "id": "_vc1IM6mSN2x"
      },
      "outputs": [],
      "source": [
        "import numpy as np\n",
        "import tensorflow as tf\n",
        "import glob\n",
        "import random\n",
        "from sklearn import model_selection\n",
        "\n",
        "from keras.preprocessing import image\n",
        "from keras.models import Model, Sequential\n",
        "from keras.layers import Dense, GlobalAveragePooling2D, Dropout, Activation, TextVectorization, Embedding, Input, LSTM, Bidirectional, Lambda, Add, Multiply, Concatenate\n",
        "from keras import backend as K\n",
        "from keras.callbacks import ModelCheckpoint, TensorBoard\n",
        "from matplotlib import pyplot as plt\n",
        "from itertools import chain, repeat, cycle\n",
        "import keras\n",
        "from sklearn.metrics import f1_score\n",
        "import cv2\n",
        "from tensorflow.keras.optimizers import SGD\n",
        "\n",
        "import os\n",
        "import shutil\n",
        "import json\n",
        "from collections import defaultdict\n",
        "import pickle\n",
        "import string"
      ]
    },
    {
      "cell_type": "code",
      "execution_count": null,
      "metadata": {
        "colab": {
          "base_uri": "https://localhost:8080/"
        },
        "id": "p5P8xRK3PIYT",
        "outputId": "ab8f69f7-3d62-45e8-a92d-fd5e7d14afb8"
      },
      "outputs": [
        {
          "output_type": "stream",
          "name": "stdout",
          "text": [
            "Mounted at /content/drive\n"
          ]
        }
      ],
      "source": [
        "from google.colab import drive\n",
        "drive.mount('/content/drive', force_remount=True)"
      ]
    },
    {
      "cell_type": "code",
      "source": [
        "embMat = np.load(\"/content/drive/MyDrive/COS529: Project4/emb.npy\")"
      ],
      "metadata": {
        "id": "V6fmkhxmkGJJ"
      },
      "execution_count": null,
      "outputs": []
    },
    {
      "cell_type": "code",
      "source": [
        "numToks = embMat.shape[0]\n",
        "numDims = embMat.shape[1]\n",
        "numTopAnswers = 1000\n",
        "maxLen = 25"
      ],
      "metadata": {
        "id": "f5nZAP4rkQ7L"
      },
      "execution_count": null,
      "outputs": []
    },
    {
      "cell_type": "code",
      "execution_count": 268,
      "metadata": {
        "id": "bdtxh3XQSmEm"
      },
      "outputs": [],
      "source": [
        "def generateModel():\n",
        "  # embedding layer for the question\n",
        "  qInput = Input(shape=(maxLen, ), dtype=\"int64\")\n",
        "  model = Embedding(numToks, numDims, input_length = maxLen, embeddings_initializer=keras.initializers.Constant(embMat), trainable=False) (qInput)\n",
        "  model, _, _ = LSTM(512, return_sequences=True, return_state=True)(model)\n",
        "  model = Dropout(0.5) (model)\n",
        "  model = LSTM(512)(model)\n",
        "\n",
        "  imInput = Input(shape=(2048, ))\n",
        "  imModel = Dense(512, activation=\"relu\")(imInput)\n",
        "\n",
        "  # using outer product\n",
        "  # combine = Lambda(outer_product, output_shape=(1024**2, ))([model, imModel])\n",
        "  combine = Add()([model, imModel])\n",
        "\n",
        "  # FC and final output layer\n",
        "  dense1 = Dense(1000, activation='relu')(combine)\n",
        "  # dense1 = Dense(1000, activation='relu')(model)\n",
        "  dense2 = Dropout(0.5) (dense1)\n",
        "  dense3 = Dense(1000, activation='relu')(dense2)\n",
        "  dense4 = Dropout(0.5) (dense3)\n",
        "  dense5 = Dense(numTopAnswers, activation='softmax')(dense4)\n",
        "\n",
        "  model = Model([qInput, imInput], dense5)\n",
        "\n",
        "  return model"
      ]
    },
    {
      "cell_type": "code",
      "execution_count": 269,
      "metadata": {
        "colab": {
          "base_uri": "https://localhost:8080/"
        },
        "id": "QgV783mYpzIy",
        "outputId": "f518a5f7-e3c2-4d07-c5ee-c3495f567cae"
      },
      "outputs": [
        {
          "output_type": "stream",
          "name": "stdout",
          "text": [
            "12916 300 25 1000\n"
          ]
        }
      ],
      "source": [
        "print(numToks, numDims, maxLen, numTopAnswers)\n",
        "model = generateModel()"
      ]
    },
    {
      "cell_type": "code",
      "source": [
        "model.summary()"
      ],
      "metadata": {
        "colab": {
          "base_uri": "https://localhost:8080/"
        },
        "id": "fISCnLi8oeZK",
        "outputId": "0fbfb268-7f33-4bcd-b6b1-b7cbaa6e9714"
      },
      "execution_count": 270,
      "outputs": [
        {
          "output_type": "stream",
          "name": "stdout",
          "text": [
            "Model: \"model_10\"\n",
            "__________________________________________________________________________________________________\n",
            " Layer (type)                   Output Shape         Param #     Connected to                     \n",
            "==================================================================================================\n",
            " input_25 (InputLayer)          [(None, 25)]         0           []                               \n",
            "                                                                                                  \n",
            " embedding_13 (Embedding)       (None, 25, 300)      3874800     ['input_25[0][0]']               \n",
            "                                                                                                  \n",
            " lstm_28 (LSTM)                 [(None, 25, 512),    1665024     ['embedding_13[0][0]']           \n",
            "                                 (None, 512),                                                     \n",
            "                                 (None, 512)]                                                     \n",
            "                                                                                                  \n",
            " dropout_29 (Dropout)           (None, 25, 512)      0           ['lstm_28[0][0]']                \n",
            "                                                                                                  \n",
            " input_26 (InputLayer)          [(None, 2048)]       0           []                               \n",
            "                                                                                                  \n",
            " lstm_29 (LSTM)                 (None, 512)          2099200     ['dropout_29[0][0]']             \n",
            "                                                                                                  \n",
            " dense_47 (Dense)               (None, 512)          1049088     ['input_26[0][0]']               \n",
            "                                                                                                  \n",
            " add_4 (Add)                    (None, 512)          0           ['lstm_29[0][0]',                \n",
            "                                                                  'dense_47[0][0]']               \n",
            "                                                                                                  \n",
            " dense_48 (Dense)               (None, 1000)         513000      ['add_4[0][0]']                  \n",
            "                                                                                                  \n",
            " dropout_30 (Dropout)           (None, 1000)         0           ['dense_48[0][0]']               \n",
            "                                                                                                  \n",
            " dense_49 (Dense)               (None, 1000)         1001000     ['dropout_30[0][0]']             \n",
            "                                                                                                  \n",
            " dropout_31 (Dropout)           (None, 1000)         0           ['dense_49[0][0]']               \n",
            "                                                                                                  \n",
            " dense_50 (Dense)               (None, 1000)         1001000     ['dropout_31[0][0]']             \n",
            "                                                                                                  \n",
            "==================================================================================================\n",
            "Total params: 11,203,112\n",
            "Trainable params: 7,328,312\n",
            "Non-trainable params: 3,874,800\n",
            "__________________________________________________________________________________________________\n"
          ]
        }
      ]
    },
    {
      "cell_type": "code",
      "source": [
        "trainAnnotations = np.load(\"/content/drive/MyDrive/COS529: Project4/trainAnns.npy\", mmap_mode=\"r\")\n",
        "trainQuest = np.load(\"/content/drive/MyDrive/COS529: Project4/trainQs.npy\", mmap_mode=\"r\")\n",
        "trainIm = np.load(\"/content/drive/MyDrive/COS529: Project4/trainIm.npy\", mmap_mode=\"r\")\n",
        "\n",
        "valQuest = np.load(\"/content/drive/MyDrive/COS529: Project4/valQuestList.npy\", mmap_mode=\"r\")\n",
        "valIm = np.load(\"/content/drive/MyDrive/COS529: Project4/valIm.npy\", mmap_mode=\"r\")\n",
        "valAnnotations = np.load(\"/content/drive/MyDrive/COS529: Project4/valAnns.npy\")\n",
        "\n",
        "import pickle5 as pickle\n",
        "with open(\"/content/drive/MyDrive/COS529: Project4/questMap.pickle\", 'rb') as pickle_file:\n",
        "  questMapVal = pickle.load(pickle_file)\n",
        "with open(\"/content/drive/MyDrive/COS529: Project4/questMapTr.pickle\", 'rb') as pickle_file:\n",
        "  questMapTr = pickle.load(pickle_file)\n",
        "with open(\"/content/drive/MyDrive/COS529: Project4/idxMap.pickle\", 'rb') as pickle_file:\n",
        "  idxMap = pickle.load(pickle_file)"
      ],
      "metadata": {
        "id": "YEeYNNXHlcCB"
      },
      "execution_count": 196,
      "outputs": []
    },
    {
      "cell_type": "code",
      "execution_count": null,
      "metadata": {
        "id": "yO31G8VXriD0"
      },
      "outputs": [],
      "source": [
        "print(len(trainIm), len(trainQuest), len(trainAnnotations))\n",
        "n = 10003\n",
        "print(trainIm[n])\n",
        "print(trainQuest[n])\n",
        "print(trainAnnotations[n])\n",
        "print(questMapTr[trainQuest[n].tobytes()])\n",
        "print(idxMap[trainAnnotations[n].argmax()])"
      ]
    },
    {
      "cell_type": "code",
      "source": [
        "class DataGenerator(tf.keras.utils.Sequence):\n",
        "    'Generates data for Keras'\n",
        "    def __init__(self, list_IDs, questions, imfeat, annots, batch_size, dim, n_classes=numTopAnswers, shuffle=True):\n",
        "        'Initialization'\n",
        "        self.questDim = dim[0]\n",
        "        self.imDim = dim[1]\n",
        "        self.batch_size = batch_size\n",
        "        self.questions = questions\n",
        "        self.imfeat = imfeat\n",
        "        self.annots = annots\n",
        "        self.list_IDs = list_IDs\n",
        "        self.n_classes = n_classes\n",
        "        self.shuffle = shuffle\n",
        "        self.on_epoch_end()\n",
        "\n",
        "    def __len__(self):\n",
        "        'Denotes the number of batches per epoch'\n",
        "        return int(np.floor(len(self.list_IDs) / self.batch_size))\n",
        "\n",
        "    def __getitem__(self, index):\n",
        "        'Generate one batch of data'\n",
        "        # Generate indexes of the batch\n",
        "        indexes = self.indexes[index*self.batch_size:(index+1)*self.batch_size]\n",
        "\n",
        "        # Find list of IDs\n",
        "        list_IDs_temp = [self.list_IDs[k] for k in indexes]\n",
        "\n",
        "        # Generate data\n",
        "        X, y = self.__data_generation(list_IDs_temp)\n",
        "\n",
        "        return X, y\n",
        "\n",
        "    def on_epoch_end(self):\n",
        "        'Updates indexes after each epoch'\n",
        "        self.indexes = np.arange(len(self.list_IDs))\n",
        "        if self.shuffle == True:\n",
        "            np.random.shuffle(self.indexes)\n",
        "\n",
        "    def __data_generation(self, list_IDs_temp):\n",
        "        'Generates data containing batch_size samples' # X : (n_samples, *dim, n_channels)\n",
        "        # Initialization\n",
        "        X = [np.empty((self.batch_size, self.questDim)), np.empty((self.batch_size, self.imDim))]\n",
        "        y = np.empty((self.batch_size, numTopAnswers), dtype=int)\n",
        "\n",
        "        listSet = set(list_IDs_temp)\n",
        "        \n",
        "        # Generate data\n",
        "        for i, ID in enumerate(list_IDs_temp):\n",
        "            # Store sample\n",
        "            X[0][i] = self.questions[ID]\n",
        "            X[1][i] = self.imfeat[ID]\n",
        "            y[i] = self.annots[ID]\n",
        "            \n",
        "        return X, y"
      ],
      "metadata": {
        "id": "abQSwQ1Xh_t4"
      },
      "execution_count": null,
      "outputs": []
    },
    {
      "cell_type": "code",
      "source": [
        "top_epochs = 7\n",
        "# Parameters\n",
        "print(maxLen)\n",
        "params = {'dim': (maxLen, 2048),\n",
        "          'batch_size': 512,\n",
        "          'n_classes': 2000,\n",
        "          'shuffle': True}\n",
        "\n",
        "modelCheckpoint = ModelCheckpoint('model.h5', save_freq=2)\n",
        "\n",
        "training_generator = DataGenerator(range(len(trainQuest)), trainQuest, trainIm, trainAnnotations, **params)\n",
        "model.compile(loss='categorical_crossentropy', optimizer='adam', metrics=['categorical_accuracy'])\n",
        "model.fit(training_generator, use_multiprocessing=True, workers=8, epochs=top_epochs)"
      ],
      "metadata": {
        "colab": {
          "base_uri": "https://localhost:8080/"
        },
        "id": "JsQcj-E0iQy2",
        "outputId": "87394590-74ba-43cb-d476-4a518b2451a7"
      },
      "execution_count": 265,
      "outputs": [
        {
          "output_type": "stream",
          "name": "stdout",
          "text": [
            "25\n",
            "Epoch 1/7\n",
            "758/758 [==============================] - 36s 42ms/step - loss: 3.0248 - categorical_accuracy: 0.2723\n",
            "Epoch 2/7\n",
            "758/758 [==============================] - 34s 43ms/step - loss: 2.4457 - categorical_accuracy: 0.3021\n",
            "Epoch 3/7\n",
            "758/758 [==============================] - 34s 43ms/step - loss: 2.1626 - categorical_accuracy: 0.3237\n",
            "Epoch 4/7\n",
            "758/758 [==============================] - 34s 43ms/step - loss: 2.0204 - categorical_accuracy: 0.3389\n",
            "Epoch 5/7\n",
            "758/758 [==============================] - 33s 42ms/step - loss: 1.9404 - categorical_accuracy: 0.3477\n",
            "Epoch 6/7\n",
            "758/758 [==============================] - 33s 42ms/step - loss: 1.8875 - categorical_accuracy: 0.3561\n",
            "Epoch 7/7\n",
            "758/758 [==============================] - 33s 42ms/step - loss: 1.8451 - categorical_accuracy: 0.3667\n"
          ]
        },
        {
          "output_type": "execute_result",
          "data": {
            "text/plain": [
              "<keras.callbacks.History at 0x7fa777a1a550>"
            ]
          },
          "metadata": {},
          "execution_count": 265
        }
      ]
    },
    {
      "cell_type": "code",
      "source": [
        "model.fit(training_generator, use_multiprocessing=True, workers=8, epochs=4)"
      ],
      "metadata": {
        "colab": {
          "base_uri": "https://localhost:8080/"
        },
        "id": "749p1gT4ZMAQ",
        "outputId": "d0e3a263-a363-4ee3-f70b-e3874956faa8"
      },
      "execution_count": 253,
      "outputs": [
        {
          "output_type": "stream",
          "name": "stdout",
          "text": [
            "Epoch 1/4\n",
            "758/758 [==============================] - 44s 56ms/step - loss: 1.6281 - categorical_accuracy: 0.4349\n",
            "Epoch 2/4\n",
            "758/758 [==============================] - 44s 56ms/step - loss: 1.5906 - categorical_accuracy: 0.4437\n",
            "Epoch 3/4\n",
            "758/758 [==============================] - 44s 56ms/step - loss: 1.5578 - categorical_accuracy: 0.4505\n",
            "Epoch 4/4\n",
            "758/758 [==============================] - 44s 57ms/step - loss: 1.5241 - categorical_accuracy: 0.4614\n"
          ]
        },
        {
          "output_type": "execute_result",
          "data": {
            "text/plain": [
              "<keras.callbacks.History at 0x7fa777a5d8d0>"
            ]
          },
          "metadata": {},
          "execution_count": 253
        }
      ]
    },
    {
      "cell_type": "code",
      "execution_count": 236,
      "metadata": {
        "id": "VjhAai5VSsAT"
      },
      "outputs": [],
      "source": [
        "def evaluateModel():\n",
        "  results = {}\n",
        "  print(\"predicting...\")\n",
        "\n",
        "  # questions = trainQuest\n",
        "  # images = trainIm\n",
        "  # annotations = trainAnnotations\n",
        "  # questMap = questMapTr\n",
        "\n",
        "  questions = valQuest\n",
        "  images = valIm\n",
        "  annotations = valAnnotations\n",
        "  questMap = questMapVal\n",
        "\n",
        "  print(\"creating the json...\")\n",
        "  hits = 0\n",
        "  total = 0\n",
        "  q_a_gt = []\n",
        "  correctAnswers = set()\n",
        "\n",
        "  for i in range(len(questions)//10000 + 1):\n",
        "    start = i*10000\n",
        "    end = min((i+1)*10000, len(questions) - 1)\n",
        "    print(end)\n",
        "    pred = model.predict([questions[start:end], images[start:end]])\n",
        "\n",
        "    for j in range(start, end):\n",
        "      indivPred = pred[j-start]\n",
        "      ans = indivPred.argmax()\n",
        "      real = annotations[j][0]\n",
        "      if real != -1:\n",
        "        answer = idxMap[ans]\n",
        "        realAnswer = idxMap[real]\n",
        "        question = questMap[questions[j].tobytes()]['question']\n",
        "        im_id = questMap[questions[j].tobytes()]['image_id']\n",
        "        if answer == realAnswer:\n",
        "          correctAnswers.add(ans)\n",
        "          hits += 1\n",
        "      total += 1\n",
        "      q_a_gt.append((question, answer, realAnswer, im_id))\n",
        "\n",
        "    #results[question] = answer\n",
        "\n",
        "  return hits, total, q_a_gt, correctAnswers\n",
        "  #return results, hits, total, q_a_gt, correctAnswers"
      ]
    },
    {
      "cell_type": "code",
      "source": [
        "hits, total, q_a_gt, correctAnswers = evaluateModel()"
      ],
      "metadata": {
        "colab": {
          "base_uri": "https://localhost:8080/"
        },
        "id": "CvSHiycQLKtN",
        "outputId": "cebffb4f-27a4-49a5-e762-34383bba6e0a"
      },
      "execution_count": 266,
      "outputs": [
        {
          "output_type": "stream",
          "name": "stdout",
          "text": [
            "predicting...\n",
            "creating the json...\n",
            "10000\n",
            "20000\n",
            "30000\n",
            "40000\n",
            "50000\n",
            "60000\n",
            "70000\n",
            "80000\n",
            "90000\n",
            "100000\n",
            "110000\n",
            "120000\n",
            "130000\n",
            "140000\n",
            "150000\n",
            "160000\n",
            "170000\n",
            "180000\n",
            "187363\n"
          ]
        }
      ]
    },
    {
      "cell_type": "code",
      "source": [
        "def writeJson(results):\n",
        "  with open(\"results.json\", \"w\") as outfile:\n",
        "    json.dump(results, outfile)"
      ],
      "metadata": {
        "id": "-2WbJKsL8Qoq"
      },
      "execution_count": null,
      "outputs": []
    },
    {
      "cell_type": "code",
      "source": [
        "writeJson(results)"
      ],
      "metadata": {
        "id": "FCzK-iNI8jvr"
      },
      "execution_count": null,
      "outputs": []
    },
    {
      "cell_type": "code",
      "source": [
        "!pip3 install pickle5"
      ],
      "metadata": {
        "colab": {
          "base_uri": "https://localhost:8080/"
        },
        "id": "QbqkVGDwLLeN",
        "outputId": "9ea87f43-900d-4884-9965-08c1b0d111e9"
      },
      "execution_count": null,
      "outputs": [
        {
          "output_type": "stream",
          "name": "stdout",
          "text": [
            "Collecting pickle5\n",
            "  Downloading pickle5-0.0.12-cp37-cp37m-manylinux_2_5_x86_64.manylinux1_x86_64.whl (256 kB)\n",
            "\u001b[?25l\r\u001b[K     |█▎                              | 10 kB 36.2 MB/s eta 0:00:01\r\u001b[K     |██▋                             | 20 kB 44.1 MB/s eta 0:00:01\r\u001b[K     |███▉                            | 30 kB 37.1 MB/s eta 0:00:01\r\u001b[K     |█████▏                          | 40 kB 24.9 MB/s eta 0:00:01\r\u001b[K     |██████▍                         | 51 kB 17.2 MB/s eta 0:00:01\r\u001b[K     |███████▊                        | 61 kB 14.5 MB/s eta 0:00:01\r\u001b[K     |█████████                       | 71 kB 13.9 MB/s eta 0:00:01\r\u001b[K     |██████████▎                     | 81 kB 15.4 MB/s eta 0:00:01\r\u001b[K     |███████████▌                    | 92 kB 14.4 MB/s eta 0:00:01\r\u001b[K     |████████████▉                   | 102 kB 13.1 MB/s eta 0:00:01\r\u001b[K     |██████████████                  | 112 kB 13.1 MB/s eta 0:00:01\r\u001b[K     |███████████████▍                | 122 kB 13.1 MB/s eta 0:00:01\r\u001b[K     |████████████████▋               | 133 kB 13.1 MB/s eta 0:00:01\r\u001b[K     |██████████████████              | 143 kB 13.1 MB/s eta 0:00:01\r\u001b[K     |███████████████████▏            | 153 kB 13.1 MB/s eta 0:00:01\r\u001b[K     |████████████████████▌           | 163 kB 13.1 MB/s eta 0:00:01\r\u001b[K     |█████████████████████▊          | 174 kB 13.1 MB/s eta 0:00:01\r\u001b[K     |███████████████████████         | 184 kB 13.1 MB/s eta 0:00:01\r\u001b[K     |████████████████████████▎       | 194 kB 13.1 MB/s eta 0:00:01\r\u001b[K     |█████████████████████████▋      | 204 kB 13.1 MB/s eta 0:00:01\r\u001b[K     |██████████████████████████▉     | 215 kB 13.1 MB/s eta 0:00:01\r\u001b[K     |████████████████████████████▏   | 225 kB 13.1 MB/s eta 0:00:01\r\u001b[K     |█████████████████████████████▍  | 235 kB 13.1 MB/s eta 0:00:01\r\u001b[K     |██████████████████████████████▊ | 245 kB 13.1 MB/s eta 0:00:01\r\u001b[K     |████████████████████████████████| 256 kB 13.1 MB/s eta 0:00:01\r\u001b[K     |████████████████████████████████| 256 kB 13.1 MB/s \n",
            "\u001b[?25hInstalling collected packages: pickle5\n",
            "Successfully installed pickle5-0.0.12\n"
          ]
        }
      ]
    },
    {
      "cell_type": "code",
      "source": [
        "valAnnotations"
      ],
      "metadata": {
        "colab": {
          "base_uri": "https://localhost:8080/"
        },
        "id": "sJG7DcfM4-Vq",
        "outputId": "cc2f8d6c-e826-402d-ad54-f3035f7cc773"
      },
      "execution_count": null,
      "outputs": [
        {
          "output_type": "execute_result",
          "data": {
            "text/plain": [
              "array([[1., 0., 0., ..., 0., 0., 0.],\n",
              "       [0., 1., 0., ..., 0., 0., 0.],\n",
              "       [0., 0., 1., ..., 0., 0., 0.],\n",
              "       ...,\n",
              "       [0., 0., 0., ..., 0., 0., 0.],\n",
              "       [0., 0., 0., ..., 0., 0., 0.],\n",
              "       [0., 0., 0., ..., 0., 0., 0.]])"
            ]
          },
          "metadata": {},
          "execution_count": 68
        }
      ]
    },
    {
      "cell_type": "code",
      "source": [
        ""
      ],
      "metadata": {
        "id": "OcJcuzMd9PgI"
      },
      "execution_count": null,
      "outputs": []
    }
  ],
  "metadata": {
    "accelerator": "GPU",
    "colab": {
      "collapsed_sections": [],
      "machine_shape": "hm",
      "name": "VQA_colab.ipynb",
      "provenance": []
    },
    "kernelspec": {
      "display_name": "Python 3",
      "name": "python3"
    },
    "language_info": {
      "name": "python"
    }
  },
  "nbformat": 4,
  "nbformat_minor": 0
}